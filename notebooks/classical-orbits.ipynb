{
 "cells": [
  {
   "cell_type": "markdown",
   "metadata": {},
   "source": [
    "# Simulating classical orbits using the RK4 method\n",
    "\n",
    "The Jupyter notebook below will walk you through how to simulate classical two-body orbits using the 4th-order Runge-Kutta (RK4) numerical integration technique. Since this is our first interaction with Python, we will step through these items carefully.\n",
    "\n",
    "**Note:** this is strongly related to material from week 2 of the course, themed as [*What time is it on Mars?*](https://alurban.github.io/black-hole-astrophysics/week-2/)\n",
    "\n",
    "## Step 1: import useful packages\n",
    "\n",
    "As we've discussed before, Python is an *interpreted* language (rather than a *compiled* one). This means you can interact directly with the Python interpreter to run your code in real-time, without having to compile it. There are many, many, many third-party software applications available through the Python Package Index ([PyPI](https://pypi.org)), which in general can be **imported** so you can use them in your code.\n",
    "\n",
    "In this example we will make heavy use of [NumPy](https://numpy.org), a fundamental package for scientific computing with Python."
   ]
  },
  {
   "cell_type": "code",
   "execution_count": null,
   "metadata": {},
   "outputs": [],
   "source": [
    "import numpy"
   ]
  },
  {
   "cell_type": "markdown",
   "metadata": {},
   "source": [
    "We will also make use of [Matplotlib](https://matplotlib.org), a standard and phenomenally useful data visualization library with native support for Jupyter. Here and in general, we will include the rule `matplotlib inline` so that plots can be rendered directly within the notebook."
   ]
  },
  {
   "cell_type": "code",
   "execution_count": null,
   "metadata": {},
   "outputs": [],
   "source": [
    "import matplotlib.pyplot as plt\n",
    "%matplotlib inline"
   ]
  },
  {
   "cell_type": "markdown",
   "metadata": {},
   "source": [
    "## Step 2: define global variables\n",
    "\n",
    "We will now define a few global-scope variables that will be used across the notebook, particularly in some functions defined below. By convention these global variables should always be named in all-caps, in order to distinguish them from other, local-scope variables.\n",
    "\n",
    "In general, the global variables defined here correspond either to physical constants or to general properties of the binary system we're trying to simulate. The values I've entered below correspond to the orbit of the planet [Mercury](https://solarsystem.nasa.gov/planets/mercury/overview/) around the Sun, but if you wanted to visualize a different system, you can change those values here.\n",
    "\n",
    "**Note:** Mercury is a very important example in the history of general relativity, so it is one we will be returning to."
   ]
  },
  {
   "cell_type": "code",
   "execution_count": null,
   "metadata": {},
   "outputs": [],
   "source": [
    "# global variables\n",
    "PI = numpy.pi\n",
    "ECC = 0.21  # orbital eccentricity\n",
    "G = 6.67408e-11  # Newton's constant in m^3 / kg / s\n",
    "MSUN = 1.989e30  # Solar mass in kg\n",
    "M1 = MSUN  # primary mass in kg\n",
    "M2 = 3.285e23  # Mercury mass in kg\n",
    "MU = M1 * M2 / (M1 + M2)  # reduced mass in kg\n",
    "M = M1 + M2  # total mass in kg\n",
    "AU = 1.496e11  # 1 astronomical unit in m\n",
    "L = 9e38  # Mercury angular momentum in J*s\n",
    "RL = L**2 / (G * M * MU**2)  # semi-latus rectum in meters\n",
    "E = (MU**3 / 2) * (G*M / L)**2 * (ECC**2 - 1)  # total energy in J"
   ]
  },
  {
   "cell_type": "markdown",
   "metadata": {},
   "source": [
    "## Step 3: define useful helper functions\n",
    "\n",
    "In the course of doing our simulation, it'll be useful to outsource the heavy lifting to a few robustly-defined functions that can then be called at each step. We will define one function for the right-hand side of our differential equation for $\\varphi(t)$,\n",
    "\n",
    "$$ \\dot{\\varphi} = \\frac{d\\varphi}{dt} = F(\\varphi) = \\frac{L}{\\mu R_L^2} \\left( 1 + e\\cos\\varphi \\right)^2 $$\n",
    "\n",
    "where $R_L$ is the semi-latus rectum for a given angular momentum. A second function will approximate the solution to this equation using the RK4 method, which is determined by a four-step process at each point:\n",
    "\n",
    "\\begin{align}\n",
    "k_1 &= h\\,F(\\varphi_i) \\\\\n",
    "k_2 &= h\\,F\\left(\\varphi_i + \\frac{k_1}{2}\\right) \\\\\n",
    "k_3 &= h\\,F\\left(\\varphi_i + \\frac{k_2}{2}\\right) \\\\\n",
    "k_4 &= h\\,F(\\varphi_i + k_3) \\\\\n",
    "\\varphi_{i+1} &= \\varphi_i + \\frac{1}{6} \\left( k_1 + 2k_2 + 2k_3 + k_4 \\right)\n",
    "\\end{align}\n",
    "\n",
    "where $h$ is the step size in time and $\\varphi_i$ the value of $\\varphi$ at the previous point.\n",
    "\n",
    "The functions `rhs` and `rk4` below implement these equations numerically. A third function, `_format_scientific`, is provided in order to render numerical values nicely for plots using $\\LaTeX$.\n",
    "\n",
    "**Note:** The name of `_format_scientific` begins with an underscore (`_`) because it is intended as a *private function*. What this means is that, if you were to convert this notebook to a standard Python module and then try to import it, `rhs` and `rk4` would be within your purview to use, but `_format_scientific` is intended for internal use only."
   ]
  },
  {
   "cell_type": "code",
   "execution_count": null,
   "metadata": {},
   "outputs": [],
   "source": [
    "# -- functions ----------------------------------------------------------------\n",
    "\n",
    "def _format_scientific(x):\n",
    "    \"\"\"Format an arbitrary floating-point number in scientific notation\n",
    "    \"\"\"\n",
    "    n = int(numpy.floor(numpy.log10(x)))\n",
    "    return '%.3g' % x if (n >= -1 and n <= 4) else \\\n",
    "        r'%.3g \\times 10^{%d}' % (x / 10**n, n)\n",
    "\n",
    "def rhs(y):\n",
    "    \"\"\"Returns the right-hand side of the equation of motion at a single\n",
    "    point, given the following parameters:\n",
    "\n",
    "        y: solution value at the previous point\n",
    "    \"\"\"\n",
    "    return L * (1 + ECC * numpy.cos(y))**2 / (MU * RL**2)\n",
    "\n",
    "def rk4(y, h):\n",
    "    \"\"\"Returns the estimated integral at a new point using the RK4 method (an\n",
    "    extension of Simpson's rule) given the following parameters:\n",
    "\n",
    "        y: the function value at the previous point\n",
    "        h: the integration step size\n",
    "    \"\"\"\n",
    "    k1 = h * rhs(y)\n",
    "    k2 = h * rhs(y + k1/2)\n",
    "    k3 = h * rhs(y + k2/2)\n",
    "    k4 = h * rhs(y + k3)\n",
    "    return y + (1/6) * (k1 + 2*k2 + 2*k3 + k4)"
   ]
  },
  {
   "cell_type": "markdown",
   "metadata": {},
   "source": [
    "## Step 4: set initial conditions\n",
    "\n",
    "We're now in a position to stage the simulation by setting up its initial conditions. This includes an initial value for $\\varphi(0) = \\varphi_0$, which we will set to 0 radians so that motion starts on the positive $x$-axis.\n",
    "\n",
    "We will also need to create an array of discrete timestamps. We can be somewhat clever in doing this, using a combination of elliptical geometry and Kepler's third law to predict the orbital period, $T$, in terms of the semi-major axis, $a$:\n",
    "\n",
    "\\begin{align}\n",
    "a = \\frac{R_L}{1 - e^2} \\\\\n",
    "\\left(\\frac{T}{2\\pi}\\right)^2 = \\frac{a^3}{GM}\n",
    "\\end{align}\n",
    "\n",
    "Thus will simulate exactly one orbital period, with a relatively small step size of $h = T/10^2$."
   ]
  },
  {
   "cell_type": "code",
   "execution_count": null,
   "metadata": {},
   "outputs": [],
   "source": [
    "# set initial conditions\n",
    "a = RL / (1 - ECC**2)  # orbital semi-major axis\n",
    "T = numpy.sqrt(4 * PI**2 * a**3 / (G * M))  # orbital period\n",
    "dt = T / 1e2  # step size, determined as 0.01% of T\n",
    "t = numpy.arange(0, T + dt, dt)  # time samples\n",
    "phi = [0]  # orbital phase initial condition"
   ]
  },
  {
   "cell_type": "markdown",
   "metadata": {},
   "source": [
    "## Step 5: simulation!\n",
    "\n",
    "Now that we've laid all the groundwork, we're in a position to perform the actual simulation. This is going to look remarkably simple because of the way we've defined helper functions: we're just going to have a simple `for` loop that ranges over all timestamps and, for each one, calls a function to iterate the numerical integration and then appends the result to `phi`."
   ]
  },
  {
   "cell_type": "code",
   "execution_count": null,
   "metadata": {},
   "outputs": [],
   "source": [
    "# do the simulation\n",
    "for i in range(t.size - 1):\n",
    "    phi.append(rk4(phi[i], dt))"
   ]
  },
  {
   "cell_type": "markdown",
   "metadata": {},
   "source": [
    "## Step 6: get the radial position\n",
    "\n",
    "We will now reconstruct the radial position from the standard formula for a conic section that we derived in class,\n",
    "\n",
    "$$ r[\\varphi(t)] = \\frac{R_L}{1 + e\\cos[\\varphi(t)]} $$\n",
    "\n",
    "To do this efficiently we will first convert `phi` to a NumPy array object, which makes mathematical operations easier to handle internally."
   ]
  },
  {
   "cell_type": "code",
   "execution_count": null,
   "metadata": {},
   "outputs": [],
   "source": [
    "# get radial position\n",
    "phi = numpy.array(phi)  # NumPy arrays are easier to work with\n",
    "r = RL / (1 + ECC * numpy.cos(phi))  # from the parametric equation for r"
   ]
  },
  {
   "cell_type": "markdown",
   "metadata": {},
   "source": [
    "## Step 7: plot the orbital track\n",
    "\n",
    "We can now visualize the orbital track by plotting $(r(t), \\varphi(t))$ in polar coordinates. Fortunately, Matplotlib makes it very easy to do this, with support for fine-tuning various features of the plot such as axis tick marks and color schemes."
   ]
  },
  {
   "cell_type": "code",
   "execution_count": null,
   "metadata": {},
   "outputs": [],
   "source": [
    "# plot the equivalent-one-body orbital track\n",
    "fig = plt.figure(figsize=(6, 6)) \n",
    "ax = fig.gca(projection='polar')  # use polar projection\n",
    "ax.plot(phi, r/AU, '#4ba6ff',\n",
    "        label='$m_1 = %s\\,M_{\\odot}$\\n$m_2 = %s\\,M_{\\odot}$' % (\n",
    "            _format_scientific(M1/MSUN), _format_scientific(M2/MSUN)))\n",
    "ax.grid(True)\n",
    "\n",
    "ax.legend(framealpha=1)\n",
    "ax.set_rticks([0.2, 0.4, 0.6])\n",
    "ax.set_title(r'$L=%s$ J$\\cdot$s, $e=%.3g$' % (\n",
    "    _format_scientific(L), ECC), va='bottom')\n",
    "plt.show()"
   ]
  },
  {
   "cell_type": "markdown",
   "metadata": {},
   "source": [
    "## Step 8: check that energy is conserved\n",
    "\n",
    "Huzzah, we have simulated Mercury's orbit! Now we'll want to do a couple of sanity checks to make sure our integration scheme did it accurately and faithfully. To examine this, recall that we already know the energy we *expect* the system to have is the constant `E`, a global variable. We can directly estimate the percentage error by numerically differentiating $r$, re-calculating the energy by hand for each data point using the condition\n",
    "\n",
    "$$ E = \\frac{1}{2} \\,\\mu \\dot{r}^2 - \\frac{GM\\mu}{r} + \\frac{L^2}{2\\mu r^2}, $$\n",
    "\n",
    "and then comparing these values to `E`.\n",
    "\n",
    "**Note:** to take a derivative numerically, we will use the convenience function [`numpy.gradient`](https://docs.scipy.org/doc/numpy/reference/generated/numpy.gradient.html). This is based on an algorithm that is second-order accurate everywhere except the first and last data points, where it is first-order accurate."
   ]
  },
  {
   "cell_type": "code",
   "execution_count": null,
   "metadata": {},
   "outputs": [],
   "source": [
    "# check that the energy is conserved\n",
    "rdot = numpy.gradient(r, dt)  # time derivative of r\n",
    "energy = 0.5*MU*rdot**2 - G*M*MU/r + L**2/(2*MU*r**2)\n",
    "error = numpy.abs((energy - E)/E)\n",
    "\n",
    "# set up a figure\n",
    "ty = t / 3.1536e7  # convert time to years\n",
    "fig = plt.figure(figsize=(8, 6))\n",
    "\n",
    "# plot the total energy\n",
    "ax1 = fig.add_subplot(211)\n",
    "ax1.plot(ty, energy/1e32, 'Orange', linewidth=2)\n",
    "ax1.plot([ty[0], ty[-1]], [E/1e32, E/1e32], 'k--')\n",
    "ax1.set_ylim([1.1*E/1e32, 0.9*E/1e32])\n",
    "ax1.set_ylabel('$E$ [$10^{32}$ J]')\n",
    "\n",
    "# plot the percentage error on a separate graph\n",
    "ax2 = fig.add_subplot(212, sharex=ax1)\n",
    "ax2.plot(ty, 100*error, 'DarkSlateGray', linewidth=2)\n",
    "ax2.set_xlim([ty.min(), ty.max()])\n",
    "ax2.set_xlabel('$t$ [years]')\n",
    "ax2.set_ylim([1e-5, 100])\n",
    "ax2.set_yscale('log')\n",
    "ax2.set_ylabel(r'Percentage error [%]')\n",
    "\n",
    "# show the figure\n",
    "plt.show()"
   ]
  },
  {
   "cell_type": "markdown",
   "metadata": {},
   "source": [
    "## Step 9: check that angular momentum is conserved\n",
    "\n",
    "Finally, we will do the same with the magnitude of orbital angular momentum, based on the condition that\n",
    "\n",
    "$$ L = \\mu r^2 \\dot{\\varphi}. $$\n",
    "\n",
    "We will compare this to `L`, our global variable giving the expected angular momentum."
   ]
  },
  {
   "cell_type": "code",
   "execution_count": null,
   "metadata": {},
   "outputs": [],
   "source": [
    "# check that the angular momentum is conserved\n",
    "phidot = numpy.gradient(phi, dt)  # time derivative of phi\n",
    "angmomentum = MU * r**2 * phidot\n",
    "Lerror = numpy.abs((angmomentum - L)/L)\n",
    "\n",
    "# set up a figure\n",
    "fig = plt.figure(figsize=(8, 6))\n",
    "\n",
    "# plot the orbital angular momentum\n",
    "ax1 = fig.add_subplot(211)\n",
    "ax1.plot(ty, angmomentum/1e38, 'DeepSkyBlue', linewidth=2)\n",
    "ax1.plot([ty[0], ty[-1]], [L/1e38, L/1e38], 'k--')\n",
    "ax1.set_ylim([0.9*L/1e38, 1.1*L/1e38])\n",
    "ax1.set_ylabel('$L$ [$10^{38}$ J$\\cdot$s]')\n",
    "\n",
    "# plot the percentage error on a separate graph\n",
    "ax2 = fig.add_subplot(212, sharex=ax1)\n",
    "ax2.plot(ty, 100*Lerror, 'DarkSlateGray', linewidth=2)\n",
    "ax2.set_xlim([ty.min(), ty.max()])\n",
    "ax2.set_xlabel('$t$ [years]')\n",
    "ax2.set_ylim([1e-5, 100])\n",
    "ax2.set_yscale('log')\n",
    "ax2.set_ylabel(r'Percentage error [%]')\n",
    "\n",
    "# show the figure\n",
    "plt.show()"
   ]
  },
  {
   "cell_type": "markdown",
   "metadata": {},
   "source": [
    "## Digging deeper\n",
    "\n",
    "Now that we've simulated a complete orbit, consider the following:\n",
    "\n",
    "* Can you plot `r` and `phi` as a function of time? (Try to do it in the same figure but on separate graphs, like we did for the percentage error plots above.)\n",
    "* If you think of $r$ and $\\varphi$ as oscillators, do they have the same frequency? (Remember: they should, because there can be no apsidal precession in the classical two-body problem.)\n",
    "* What do the orbital features look like if you try to model different Solar System planets? How well are the energy and angular momentum conserved, numerically speaking?\n",
    "* Do you have to change anything about your initial conditions if you want to model parabolic or hyperbolic orbits? How well are the energy and angular momentum conserved, numerically?"
   ]
  }
 ],
 "metadata": {
  "kernelspec": {
   "display_name": "Python 3",
   "language": "python",
   "name": "python3"
  },
  "language_info": {
   "codemirror_mode": {
    "name": "ipython",
    "version": 3
   },
   "file_extension": ".py",
   "mimetype": "text/x-python",
   "name": "python",
   "nbconvert_exporter": "python",
   "pygments_lexer": "ipython3",
   "version": "3.7.1"
  }
 },
 "nbformat": 4,
 "nbformat_minor": 2
}
