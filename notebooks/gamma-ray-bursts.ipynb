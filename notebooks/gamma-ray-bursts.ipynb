{
 "cells": [
  {
   "cell_type": "code",
   "execution_count": null,
   "metadata": {},
   "outputs": [],
   "source": [
    "import numpy\n",
    "import urllib.request\n",
    "import warnings\n",
    "\n",
    "# module-level imports\n",
    "from astropy import (coordinates, units)\n",
    "from astropy.io import fits"
   ]
  },
  {
   "cell_type": "code",
   "execution_count": null,
   "metadata": {},
   "outputs": [],
   "source": [
    "# matplotlib imports\n",
    "import matplotlib.pyplot as plt\n",
    "from matplotlib import patheffects\n",
    "%matplotlib inline"
   ]
  },
  {
   "cell_type": "code",
   "execution_count": null,
   "metadata": {},
   "outputs": [],
   "source": [
    "# global variables\n",
    "CMAP = 'bone_r'\n",
    "BATSE_PATH = ('https://gammaray.nsstc.nasa.gov/'\n",
    "              'batse/grb/catalog/current/tables')\n",
    "BATSE_BASIC = '/'.join((BATSE_PATH, 'basic_table.txt'))\n",
    "BATSE_FLUX = '/'.join((BATSE_PATH, 'flux_table.txt'))\n",
    "BATSE_DURATION = '/'.join((BATSE_PATH, 'duration_table.txt'))\n",
    "HALPHA_SURVEY = ('https://lambda.gsfc.nasa.gov/data/foregrounds/halpha/'\n",
    "                 'images/lambda_mollweide_halpha_fwhm06_0512.fits')"
   ]
  },
  {
   "cell_type": "code",
   "execution_count": null,
   "metadata": {},
   "outputs": [],
   "source": [
    "warnings.filterwarnings('ignore', category=RuntimeWarning)"
   ]
  },
  {
   "cell_type": "code",
   "execution_count": null,
   "metadata": {},
   "outputs": [],
   "source": [
    "# -- functions ----------------------------------------------------------------\n",
    "\n",
    "def read_txt_from_url(path, columns, start=1, step=1):\n",
    "    \"\"\"Reads a .txt file given a URL, and returns the data as a collection of\n",
    "    masked numpy arrays\n",
    "\n",
    "    Parameters\n",
    "    ----------\n",
    "    path : `str`\n",
    "        URL of the file to read\n",
    "\n",
    "    columns : `tuple` of `int`\n",
    "        columns to read from the file, should be a `tuple` of `int` for\n",
    "        multiple columns\n",
    "\n",
    "    start : `int`, optional\n",
    "        line of the file to start on, default: 0\n",
    "\n",
    "    step : `int`, optional\n",
    "        number of lines to step at a time, default: 1\n",
    "\n",
    "    Returns\n",
    "    -------\n",
    "    data : `list` of `numpy.ndarray`\n",
    "        requested column data from the file\n",
    "    \"\"\"\n",
    "    # request HTTP access to the given file\n",
    "    with urllib.request.urlopen(path) as response:\n",
    "        lines = response.readlines()[start-1::step]\n",
    "    data = [numpy.array(  # re-pack requested rows and columns\n",
    "        [float(line.split()[i-1]) for line in lines]\n",
    "    ) for i in columns]\n",
    "    return data"
   ]
  },
  {
   "cell_type": "code",
   "execution_count": null,
   "metadata": {},
   "outputs": [],
   "source": [
    "# read the galactic longitude, galactic latitude, and error radius\n",
    "# from columns 8, 9, and 10 of the BATSE 4b basic catalogue\n",
    "(lon, lat, err) = read_txt_from_url(BATSE_BASIC, columns=(8, 9, 10))\n",
    "lon = coordinates.Angle((lon + 180) * units.degree)\n",
    "lat = coordinates.Angle(lat * units.degree)\n",
    "err = coordinates.Angle(err * units.degree)\n",
    "\n",
    "# set zero-point of longitude at 180 degrees\n",
    "lon.wrap_at(180 * units.degree, inplace=True)"
   ]
  },
  {
   "cell_type": "code",
   "execution_count": null,
   "metadata": {},
   "outputs": [],
   "source": [
    "# download H-alpha survey data from NASA\n",
    "with urllib.request.urlopen(HALPHA_SURVEY) as response:\n",
    "    (_, milkyway) = fits.open(response)"
   ]
  },
  {
   "cell_type": "code",
   "execution_count": null,
   "metadata": {},
   "outputs": [],
   "source": [
    "fig = plt.figure(figsize=(12, 6))\n",
    "ax1 = fig.gca()\n",
    "ax1.axis('off')\n",
    "\n",
    "# show a map of the Milky Way\n",
    "im = ax1.imshow(milkyway.data, origin='lower', cmap=CMAP)\n",
    "im.set_clim(0, 30)\n",
    "\n",
    "# draw a new set of axes on top of the Milky Way map\n",
    "ax2 = fig.add_axes(ax1.get_position(), projection='mollweide', frameon=False)\n",
    "\n",
    "# draw the location of each BATSE burst, with detector's localization error\n",
    "ax2.scatter(lon.radian, lat.radian, s=20*err.degree, marker='o',\n",
    "            alpha=0.4, edgecolor='#222222', facecolor='#4ba6ff')\n",
    "\n",
    "# make easier-to-read axis labels\n",
    "labels = ax2.set_xticklabels([\n",
    "    '330$^{\\degree}$', '300$^{\\degree}$', '270$^{\\degree}$', '240$^{\\degree}$',\n",
    "    '210$^{\\degree}$', '180$^{\\degree}$', '150$^{\\degree}$', '120$^{\\degree}$',\n",
    "    '90$^{\\degree}$', '60$^{\\degree}$', '30$^{\\degree}$'])\n",
    "for l in labels:\n",
    "    l.set_path_effects([\n",
    "        patheffects.Stroke(\n",
    "            linewidth=4,\n",
    "            foreground=plt.cm.get_cmap(CMAP)(0)),\n",
    "        patheffects.Normal()])\n",
    "plt.show()"
   ]
  },
  {
   "cell_type": "code",
   "execution_count": null,
   "metadata": {},
   "outputs": [],
   "source": [
    "# read in BATSE flux data, then sort in ascending order\n",
    "(flux, ) = read_txt_from_url(\n",
    "    BATSE_FLUX,\n",
    "    columns=(1,),\n",
    "    start=4,\n",
    "    step=5,\n",
    ")\n",
    "flux.sort()\n",
    "\n",
    "# prepare a figure\n",
    "fig = plt.figure(figsize=(12, 6))\n",
    "ax = fig.gca()\n",
    "\n",
    "# plot a cumulative histogram of log(flux)\n",
    "plt.hist(flux, bins=flux, histtype='step', color='#4ba6ff',\n",
    "         linewidth=2, cumulative=-1, label='BATSE 4B catalogue')\n",
    "\n",
    "# plot the uniform volume distribution\n",
    "# expected from Euclidean universe\n",
    "S = numpy.logspace(-1, 3, 101)\n",
    "N = 10 * (S / 55) ** (-3/2)\n",
    "ax.plot(S, N, 'k--', linewidth=1.25, label='$S^{-3/2}$')\n",
    "\n",
    "# x-axis features\n",
    "ax.set_xscale('log')\n",
    "ax.set_xlim([1, flux.max()])\n",
    "ax.set_xlabel('Peak flux [photons cm$^{-2}$ s$^{-1}$]')\n",
    "ax.set_xticks([1, 10, 100])\n",
    "ax.set_xticklabels(['1', '10', '100'])\n",
    "\n",
    "# y-axis features\n",
    "ax.set_yscale('log')\n",
    "ax.set_ylim([1, 1e3])\n",
    "ax.set_ylabel('Number of GRBs')\n",
    "ax.set_yticks([1, 10, 100, 1000])\n",
    "ax.set_yticklabels(['1', '10', '100', '$10^3$'])\n",
    "\n",
    "# draw a legend and show\n",
    "plt.legend(loc='best')\n",
    "plt.show()"
   ]
  },
  {
   "cell_type": "code",
   "execution_count": null,
   "metadata": {},
   "outputs": [],
   "source": [
    "# read in BATSE duration data\n",
    "(T90, ) = read_txt_from_url(BATSE_DURATION, columns=(5,))\n",
    "\n",
    "# prepare a figure\n",
    "fig = plt.figure(figsize=(12, 6))\n",
    "ax = fig.gca()\n",
    "\n",
    "# plot a histogram of log(T90)\n",
    "bins = numpy.logspace(-3, 3, 31)\n",
    "ax.hist(T90, bins=bins, histtype='step', color='#222222', linewidth=2)\n",
    "ax.plot([2, 2], [0, 300], 'k--', linewidth=1)\n",
    "\n",
    "# x-axis features\n",
    "ax.set_xscale('log')\n",
    "ax.set_xlim([1e-3, 1e3])\n",
    "ax.set_xlabel('$T_{90}$ [seconds]')\n",
    "\n",
    "# y-axis features\n",
    "ax.set_ylim([0, 300])\n",
    "ax.set_ylabel('Number of GRBs')\n",
    "\n",
    "# show the figure\n",
    "plt.show()"
   ]
  }
 ],
 "metadata": {
  "kernelspec": {
   "display_name": "Python 3",
   "language": "python",
   "name": "python3"
  },
  "language_info": {
   "codemirror_mode": {
    "name": "ipython",
    "version": 3
   },
   "file_extension": ".py",
   "mimetype": "text/x-python",
   "name": "python",
   "nbconvert_exporter": "python",
   "pygments_lexer": "ipython3",
   "version": "3.7.1"
  }
 },
 "nbformat": 4,
 "nbformat_minor": 1
}
